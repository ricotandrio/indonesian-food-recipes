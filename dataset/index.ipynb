{
 "cells": [
  {
   "cell_type": "code",
   "execution_count": 1,
   "metadata": {},
   "outputs": [],
   "source": [
    "import pandas as pd \n",
    "\n",
    "# Load dataset\n",
    "df_ayam = pd.read_csv('./kaggle/dataset-ayam.csv')\n",
    "df_kambing = pd.read_csv('./kaggle/dataset-kambing.csv')\n",
    "df_sapi = pd.read_csv('./kaggle/dataset-sapi.csv')\n",
    "df_telur = pd.read_csv('./kaggle/dataset-telur.csv')\n",
    "df_tahu = pd.read_csv('./kaggle/dataset-tahu.csv')\n",
    "df_ikan = pd.read_csv('./kaggle/dataset-ikan.csv')\n",
    "df_tempe = pd.read_csv('./kaggle/dataset-tempe.csv')\n",
    "\n",
    "# Add the Category column\n",
    "df_ayam['Category'] = 'ayam'\n",
    "df_kambing['Category'] = 'kambing'\n",
    "df_sapi['Category'] = 'sapi'\n",
    "df_telur['Category'] = 'telur'\n",
    "df_tahu['Category'] = 'tahu'\n",
    "df_ikan['Category'] = 'ikan'\n",
    "df_tempe['Category'] = 'tempe'"
   ]
  },
  {
   "cell_type": "code",
   "execution_count": 2,
   "metadata": {},
   "outputs": [
    {
     "name": "stdout",
     "output_type": "stream",
     "text": [
      "Total rows: 13647\n",
      "Total null values: 94\n"
     ]
    }
   ],
   "source": [
    "# Concatenate the dataframes\n",
    "df_combined = pd.concat([df_ayam, df_kambing, df_sapi, df_telur, df_tahu, df_ikan, df_tempe], ignore_index=True)\n",
    "\n",
    "before_clean_rows = df_combined.shape[0]\n",
    "print(f\"Total rows: {before_clean_rows}\")\n",
    "print(f\"Total null values: {df_combined.isnull().sum().sum()}\")"
   ]
  },
  {
   "cell_type": "code",
   "execution_count": 5,
   "metadata": {},
   "outputs": [
    {
     "name": "stdout",
     "output_type": "stream",
     "text": [
      "Total rows after cleaning: 13599\n",
      "Percentage of data loss: 0.35%\n"
     ]
    }
   ],
   "source": [
    "# Clean the data from null values and duplicates\n",
    "df_combined.dropna(inplace=True)\n",
    "df_combined.drop_duplicates(inplace=True)\n",
    "\n",
    "after_clean_rows = df_combined.shape[0]\n",
    "print(f\"Total rows after cleaning: {after_clean_rows}\")\n",
    "print(f\"Percentage of data loss: {(before_clean_rows - after_clean_rows) / before_clean_rows * 100:.2f}%\")"
   ]
  },
  {
   "cell_type": "code",
   "execution_count": 6,
   "metadata": {},
   "outputs": [],
   "source": [
    "# Convert 'Loves' to integer\n",
    "df_combined['Loves'] = df_combined['Loves'].apply(lambda value: int(value))\n",
    "\n",
    "# Compile the cleaned data into a single CSV file\n",
    "df_combined.to_csv('./cleaned/dataset-cleaned.csv', index=False)"
   ]
  }
 ],
 "metadata": {
  "kernelspec": {
   "display_name": "Python 3",
   "language": "python",
   "name": "python3"
  },
  "language_info": {
   "codemirror_mode": {
    "name": "ipython",
    "version": 3
   },
   "file_extension": ".py",
   "mimetype": "text/x-python",
   "name": "python",
   "nbconvert_exporter": "python",
   "pygments_lexer": "ipython3",
   "version": "3.7.6"
  }
 },
 "nbformat": 4,
 "nbformat_minor": 2
}
